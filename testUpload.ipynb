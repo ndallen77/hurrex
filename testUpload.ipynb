{
  "nbformat": 4,
  "nbformat_minor": 0,
  "metadata": {
    "colab": {
      "name": "testUpload.ipynb",
      "provenance": [],
      "authorship_tag": "ABX9TyOabiA14nddCPukPpP23T8V",
      "include_colab_link": true
    },
    "kernelspec": {
      "name": "python3",
      "display_name": "Python 3"
    }
  },
  "cells": [
    {
      "cell_type": "markdown",
      "metadata": {
        "id": "view-in-github",
        "colab_type": "text"
      },
      "source": [
        "<a href=\"https://colab.research.google.com/github/ndallen77/hurrex/blob/master/testUpload.ipynb\" target=\"_parent\"><img src=\"https://colab.research.google.com/assets/colab-badge.svg\" alt=\"Open In Colab\"/></a>"
      ]
    },
    {
      "cell_type": "code",
      "metadata": {
        "id": "GWyrp1RaGTVv",
        "colab_type": "code",
        "colab": {
          "base_uri": "https://localhost:8080/",
          "height": 34
        },
        "outputId": "c3a69a84-4f0d-4c1c-faed-930517ce1a04"
      },
      "source": [
        "import numpy as np\n",
        "print('got numpy!')"
      ],
      "execution_count": 1,
      "outputs": [
        {
          "output_type": "stream",
          "text": [
            "got numpy!\n"
          ],
          "name": "stdout"
        }
      ]
    }
  ]
}